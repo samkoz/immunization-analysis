{
 "cells": [
  {
   "cell_type": "markdown",
   "metadata": {},
   "source": [
    "## Issues to address\n",
    "* price analysis could probably be better\n",
    "    * prices vary historically; also we have brandnames in original dataset; we could probably just apply the prices to the original dataset\n",
    "    * used [2017 price list](https://www.cdc.gov/vaccines/programs/vfc/awardees/vaccine-management/price-list/) in below analysis\n",
    "    * cost of H1N1 was obtained from this [article](https://www.ncbi.nlm.nih.gov/pmc/articles/PMC3146485/); [table with cost info](https://www.ncbi.nlm.nih.gov/pmc/articles/PMC3146485/table/pone-0022308-t002/ \"Title\")\n",
    "\n",
    "## Notes:\n",
    "\n",
    "* This is just an analysis of those 14 vacs below\n",
    "* I removed all vaccines from the dataset that are not in that list (e.g. influenza is gone)\n",
    "* lots of records removed from original df \n",
    "    * Number of vaccines removed:  2,414,080\n",
    "    * Number of IDs removed:  0"
   ]
  },
  {
   "cell_type": "code",
   "execution_count": 2,
   "metadata": {
    "collapsed": true
   },
   "outputs": [],
   "source": [
    "import numpy as np\n",
    "import pandas as pd\n",
    "import matplotlib.pyplot as plt\n",
    "import datetime\n",
    "%matplotlib inline"
   ]
  },
  {
   "cell_type": "code",
   "execution_count": 3,
   "metadata": {
    "collapsed": false
   },
   "outputs": [
    {
     "name": "stdout",
     "output_type": "stream",
     "text": [
      "Wall time: 32.8 s\n"
     ]
    }
   ],
   "source": [
    "%%time\n",
    "df = pd.read_csv(\"Over_vax_dataset_1+_peds_1.23.17.csv\")\n",
    "df_test = pd.read_csv(\"Over_vax_dataset_1+_11.30.16.csv\")"
   ]
  },
  {
   "cell_type": "markdown",
   "metadata": {},
   "source": [
    "### Only run this if you want to test this against the old dataset"
   ]
  },
  {
   "cell_type": "code",
   "execution_count": 384,
   "metadata": {
    "collapsed": true
   },
   "outputs": [],
   "source": [
    "# run this if you want to see values with old data\n",
    "df = df_test"
   ]
  },
  {
   "cell_type": "code",
   "execution_count": 5,
   "metadata": {
    "collapsed": false
   },
   "outputs": [
    {
     "name": "stdout",
     "output_type": "stream",
     "text": [
      "Num of vaccines in original dataset:  17773273\n",
      "Num of IDs in original dataset 568221\n"
     ]
    }
   ],
   "source": [
    "# original df specs\n",
    "original_num_vacs = df.shape[0]\n",
    "original_num_IDs = df.ID.unique().shape[0]\n",
    "print(\"Num of vaccines in original dataset: \", original_num_vacs)\n",
    "print(\"Num of IDs in original dataset\", original_num_IDs)"
   ]
  },
  {
   "cell_type": "code",
   "execution_count": 6,
   "metadata": {
    "collapsed": false
   },
   "outputs": [],
   "source": [
    "group_names = {\n",
    "  \"Diphtheria, Tetanus, Acellular Pertussis\" : \"DTaP\",\n",
    "  \"H1N1-09 Novel Influenza Vaccine\" : \"H1N1\",\n",
    "  \"Hepatitis A\" : \"HepA\",\n",
    "  \"Hepatitis B\" : \"HepB\",\n",
    "  \"Hib\" : \"Hib\",\n",
    "  \"Human papilloma virus vaccine\" : \"HPV\",\n",
    "  \"Influenza\" : \"Influenza\",\n",
    "  \"Meningococcal conjugate\" : \"MCV4\",\n",
    "  \"Measles, Mumps, Rubella\" : \"MMR\",\n",
    "  \"Pneumonia Conjugate\" : \"PCV\",\n",
    "  \"Pneumonia Polysaccharide\" : \"PPSV\",\n",
    "  \"Poliomyelitis\" : \"Polio\",\n",
    "  \"Rotavirus\" : \"Rotavirus\",\n",
    "  \"Varicella\" : \"Varicella\",\n",
    "  \"Zoster vaccine, live\" : \"Zoster\"\n",
    "}\n",
    "\n",
    "max_map = { \n",
    "  \"DTaP\"       : 5,\n",
    "  \"H1N1\"       : 2,\n",
    "  \"HepA\"       : 2,\n",
    "  \"HepB\"       : 3,\n",
    "  \"Hib\"        : 4,\n",
    "  \"HPV\"        : 3,\n",
    "  \"MCV4\"       : 2,\n",
    "  \"MMR\"        : 2,\n",
    "  \"PCV\"        : 4,\n",
    "  \"PPSV\"       : 1,\n",
    "  \"Polio\"      : 4,\n",
    "  \"Rotavirus\"  : 3,\n",
    "  \"Varicella\"  : 2,\n",
    "  \"Zoster\"     : 1\n",
    "};"
   ]
  },
  {
   "cell_type": "code",
   "execution_count": 8,
   "metadata": {
    "collapsed": false
   },
   "outputs": [],
   "source": [
    "# function that applies above group names to original dataset\n",
    "def rename_groups(x):\n",
    "    if x in group_names.keys():\n",
    "        return group_names[x]\n",
    "    else:\n",
    "        return x"
   ]
  },
  {
   "cell_type": "code",
   "execution_count": 9,
   "metadata": {
    "collapsed": false
   },
   "outputs": [],
   "source": [
    "# update Vaccine_Group names\n",
    "df = df.assign(Vaccine_Group = df['Vaccine_Group'].apply(rename_groups))"
   ]
  },
  {
   "cell_type": "code",
   "execution_count": 10,
   "metadata": {
    "collapsed": false,
    "scrolled": true
   },
   "outputs": [
    {
     "name": "stdout",
     "output_type": "stream",
     "text": [
      "Number of vaccines removed:  2414080\n",
      "Number of IDs removed:  0\n"
     ]
    }
   ],
   "source": [
    "# list of vaccine groups\n",
    "vaccine_groups = df['Vaccine_Group'].unique()\n",
    "\n",
    "# excluded vacs\n",
    "excluded_vaccines = [vac for vac in vaccine_groups if vac not in max_map.keys()]\n",
    "\n",
    "# filter df to remove vaccines not in group_names\n",
    "df = df[~df['Vaccine_Group'].isin(excluded_vaccines)]\n",
    "\n",
    "# these are total vacs and total ID's\n",
    "remaining_vacs = df.shape[0]\n",
    "remaining_IDs = df.ID.unique().shape[0]\n",
    "\n",
    "print(\"Number of vaccines removed: \", original_num_vacs - remaining_vacs)\n",
    "print(\"Number of IDs removed: \", original_num_IDs - remaining_IDs)"
   ]
  },
  {
   "cell_type": "code",
   "execution_count": 11,
   "metadata": {
    "collapsed": true
   },
   "outputs": [],
   "source": [
    "# remove unnecessary columns / keep only valuable columns\n",
    "df = df[[\"ID\", 'vaccination_date', 'Vaccine_Name', \n",
    "         'Vaccine_Group', 'Date_Entered', 'Entered_By', 'AGE_IN_MONTHS']]"
   ]
  },
  {
   "cell_type": "code",
   "execution_count": 12,
   "metadata": {
    "collapsed": false
   },
   "outputs": [
    {
     "data": {
      "text/html": [
       "<div>\n",
       "<table border=\"1\" class=\"dataframe\">\n",
       "  <thead>\n",
       "    <tr style=\"text-align: right;\">\n",
       "      <th></th>\n",
       "      <th>ID</th>\n",
       "    </tr>\n",
       "    <tr>\n",
       "      <th>vaccination_date</th>\n",
       "      <th></th>\n",
       "    </tr>\n",
       "  </thead>\n",
       "  <tbody>\n",
       "    <tr>\n",
       "      <th>0</th>\n",
       "      <td>286623</td>\n",
       "    </tr>\n",
       "    <tr>\n",
       "      <th>1</th>\n",
       "      <td>345997</td>\n",
       "    </tr>\n",
       "    <tr>\n",
       "      <th>2</th>\n",
       "      <td>366212</td>\n",
       "    </tr>\n",
       "    <tr>\n",
       "      <th>3</th>\n",
       "      <td>476236</td>\n",
       "    </tr>\n",
       "    <tr>\n",
       "      <th>4</th>\n",
       "      <td>579781</td>\n",
       "    </tr>\n",
       "    <tr>\n",
       "      <th>5</th>\n",
       "      <td>625913</td>\n",
       "    </tr>\n",
       "    <tr>\n",
       "      <th>6</th>\n",
       "      <td>767770</td>\n",
       "    </tr>\n",
       "    <tr>\n",
       "      <th>7</th>\n",
       "      <td>1116231</td>\n",
       "    </tr>\n",
       "    <tr>\n",
       "      <th>8</th>\n",
       "      <td>1394834</td>\n",
       "    </tr>\n",
       "    <tr>\n",
       "      <th>9</th>\n",
       "      <td>1536756</td>\n",
       "    </tr>\n",
       "    <tr>\n",
       "      <th>10</th>\n",
       "      <td>1341680</td>\n",
       "    </tr>\n",
       "    <tr>\n",
       "      <th>11</th>\n",
       "      <td>1183809</td>\n",
       "    </tr>\n",
       "    <tr>\n",
       "      <th>12</th>\n",
       "      <td>1047455</td>\n",
       "    </tr>\n",
       "    <tr>\n",
       "      <th>13</th>\n",
       "      <td>1076839</td>\n",
       "    </tr>\n",
       "    <tr>\n",
       "      <th>14</th>\n",
       "      <td>1027670</td>\n",
       "    </tr>\n",
       "    <tr>\n",
       "      <th>15</th>\n",
       "      <td>997800</td>\n",
       "    </tr>\n",
       "    <tr>\n",
       "      <th>16</th>\n",
       "      <td>896876</td>\n",
       "    </tr>\n",
       "    <tr>\n",
       "      <th>17</th>\n",
       "      <td>28373</td>\n",
       "    </tr>\n",
       "    <tr>\n",
       "      <th>98</th>\n",
       "      <td>57871</td>\n",
       "    </tr>\n",
       "    <tr>\n",
       "      <th>99</th>\n",
       "      <td>204467</td>\n",
       "    </tr>\n",
       "  </tbody>\n",
       "</table>\n",
       "</div>"
      ],
      "text/plain": [
       "                       ID\n",
       "vaccination_date         \n",
       "0                  286623\n",
       "1                  345997\n",
       "2                  366212\n",
       "3                  476236\n",
       "4                  579781\n",
       "5                  625913\n",
       "6                  767770\n",
       "7                 1116231\n",
       "8                 1394834\n",
       "9                 1536756\n",
       "10                1341680\n",
       "11                1183809\n",
       "12                1047455\n",
       "13                1076839\n",
       "14                1027670\n",
       "15                 997800\n",
       "16                 896876\n",
       "17                  28373\n",
       "98                  57871\n",
       "99                 204467"
      ]
     },
     "execution_count": 12,
     "metadata": {},
     "output_type": "execute_result"
    }
   ],
   "source": [
    "# quick check of the dates w/in the dataframe\n",
    "vac_date_year = df[\"vaccination_date\"].str.slice(-2).astype(int)\n",
    "enter_date_year = df.Date_Entered.str.slice(-2).astype(int)\n",
    "\n",
    "# nobody in 2018 in this dataset, which is good\n",
    "df.groupby([vac_date_year]).agg({\"ID\" : pd.Series.count})"
   ]
  },
  {
   "cell_type": "code",
   "execution_count": 13,
   "metadata": {
    "collapsed": false
   },
   "outputs": [
    {
     "data": {
      "text/html": [
       "<div>\n",
       "<table border=\"1\" class=\"dataframe\">\n",
       "  <thead>\n",
       "    <tr style=\"text-align: right;\">\n",
       "      <th></th>\n",
       "      <th>ID</th>\n",
       "    </tr>\n",
       "    <tr>\n",
       "      <th>vaccination_date</th>\n",
       "      <th></th>\n",
       "    </tr>\n",
       "  </thead>\n",
       "  <tbody>\n",
       "    <tr>\n",
       "      <th>1</th>\n",
       "      <td>28373</td>\n",
       "    </tr>\n",
       "  </tbody>\n",
       "</table>\n",
       "</div>"
      ],
      "text/plain": [
       "                     ID\n",
       "vaccination_date       \n",
       "1                 28373"
      ]
     },
     "execution_count": 13,
     "metadata": {},
     "output_type": "execute_result"
    }
   ],
   "source": [
    "# final year and months in final year\n",
    "df_final_year = df[vac_date_year == 17]\n",
    "month_in_final_year = df[vac_date_year == 17].vaccination_date.str.slice(start=0, stop=2).astype(int)\n",
    "\n",
    "# all 2017 dates are in the month of January, so they look good\n",
    "df_final_year.groupby(month_in_final_year).agg({'ID' : pd.Series.count})"
   ]
  },
  {
   "cell_type": "code",
   "execution_count": 39,
   "metadata": {
    "collapsed": true
   },
   "outputs": [],
   "source": [
    "def date_convert(d):\n",
    "    month, day, year = int(d[:2]), int(d[3:5]), d[6:]\n",
    "    if int(year) > 90:\n",
    "        year = int(\"19\" + year)\n",
    "    else:\n",
    "        year = int(\"20\" + year)\n",
    "    vac_date = datetime.date(year, month, day)\n",
    "    return vac_date"
   ]
  },
  {
   "cell_type": "code",
   "execution_count": 86,
   "metadata": {
    "collapsed": false
   },
   "outputs": [],
   "source": [
    "# update vac date and dates entered\n",
    "vac_dates = df.vaccination_date.map(lambda x: date_convert(x))\n",
    "dates_entered = df.Date_Entered.map(lambda x: date_convert(x))\n",
    "\n",
    "df = df.assign(vaccination_date = vac_dates)\n",
    "df = df.assign(Date_Entered = dates_entered)"
   ]
  },
  {
   "cell_type": "code",
   "execution_count": 82,
   "metadata": {
    "collapsed": false
   },
   "outputs": [],
   "source": [
    "# create a years column\n",
    "years = df.vaccination_date.map(lambda x: x.year)\n",
    "df['vac_year'] = years"
   ]
  },
  {
   "cell_type": "code",
   "execution_count": 19,
   "metadata": {
    "collapsed": false
   },
   "outputs": [],
   "source": [
    "# getting counts of vaccines each individual received\n",
    "df_vaccine_counts = df.groupby(['ID', 'Vaccine_Group']).count()\n",
    "df_vaccine_counts = df_vaccine_counts.drop(df_vaccine_counts.columns[:-1], 1)\n",
    "df_vaccine_counts['Vaccine_Counts'] = df_vaccine_counts.vac_year\n",
    "df_vaccine_counts.drop('vac_year', 1, inplace=True)\n",
    "df_vaccine_counts.reset_index(inplace=True)\n",
    "\n",
    "# add a column of 1's to original df; not really using this right now\n",
    "df['Vaccine_Count'] = 1"
   ]
  },
  {
   "cell_type": "code",
   "execution_count": 49,
   "metadata": {
    "collapsed": false,
    "scrolled": true
   },
   "outputs": [],
   "source": [
    "# create a df of only vacs that were given in excess\n",
    "excessive_vacs_df = df_vaccine_counts[df_vaccine_counts.Vaccine_Counts > \n",
    "                  df_vaccine_counts.Vaccine_Group.map(max_map)]"
   ]
  },
  {
   "cell_type": "code",
   "execution_count": 50,
   "metadata": {
    "collapsed": false
   },
   "outputs": [],
   "source": [
    "# add a column of the number of excessive vacs given\n",
    "num_excessive = excessive_vacs_df.Vaccine_Counts - excessive_vacs_df.Vaccine_Group.map(max_map)\n",
    "excessive_vacs_df = excessive_vacs_df.assign(num_excessive=num_excessive)"
   ]
  },
  {
   "cell_type": "code",
   "execution_count": 489,
   "metadata": {
    "collapsed": false
   },
   "outputs": [
    {
     "name": "stdout",
     "output_type": "stream",
     "text": [
      "Wall time: 52min 38s\n"
     ]
    }
   ],
   "source": [
    "%%time\n",
    "# label vacs as appropriate or not in original df\n",
    "# this facilitates location analysis and multiple analysis\n",
    "# takes ~1hr to run\n",
    "vaccine_groups = list(max_map.keys())\n",
    "bad_index_list = []\n",
    "\n",
    "for ID, vacs in df.groupby('ID'):\n",
    "    vac_groups = vacs.Vaccine_Group.unique()\n",
    "    bad_indices = []\n",
    "#     print('\\nID:', ID)\n",
    "    \n",
    "    for vac_group in vac_groups:\n",
    "        vac_subgroup = vacs[vacs.Vaccine_Group == vac_group]\n",
    "        max_len = max_map[vac_group]\n",
    "        \n",
    "#         print(vac_group, max_len)\n",
    "        \n",
    "        if len(vac_subgroup) > max_len:\n",
    "            bad_subgroup_indices = list(vac_subgroup[max_len:].index.values)\n",
    "            bad_indices += bad_subgroup_indices\n",
    "            \n",
    "            # print(\"bad vac:\", vac_group, \"#bad:\", len(vac_subgroup) - max_len)\n",
    "            # print(\"bad_subgroup:\", bad_subgroup_indices)\n",
    "            # print(\"Bad_indices:\", bad_indices)\n",
    "            \n",
    "        else:\n",
    "            continue\n",
    "    \n",
    "    bad_index_list += bad_indices\n",
    "    \n",
    "#     print(\"final bad indices: \", bad_indices)\n",
    "#     print(\"bad_index_list:\", bad_index_list)"
   ]
  },
  {
   "cell_type": "code",
   "execution_count": 490,
   "metadata": {
    "collapsed": true
   },
   "outputs": [],
   "source": [
    "# save inappropriate indices to a csv file\n",
    "bad_ind_series = pd.Series(bad_index_list)\n",
    "bad_ind_series.to_csv(\"excessive_indices.csv\")"
   ]
  },
  {
   "cell_type": "code",
   "execution_count": 498,
   "metadata": {
    "collapsed": false
   },
   "outputs": [],
   "source": [
    "# update df by labeling excessive vacs\n",
    "df.loc[df.index.isin(bad_index_list), 'Excessive'] = True"
   ]
  },
  {
   "cell_type": "code",
   "execution_count": 68,
   "metadata": {
    "collapsed": false
   },
   "outputs": [],
   "source": [
    "df_excessive_labels = df[df.Excessive == True]"
   ]
  },
  {
   "cell_type": "code",
   "execution_count": 537,
   "metadata": {
    "collapsed": true
   },
   "outputs": [],
   "source": [
    "# add vac counts per ID per vac_group to main df using transform\n",
    "vacs_per_ID_per_vac_Group = df.groupby(['ID', 'Vaccine_Group'])['Vaccine_Count'].transform(sum)\n",
    "df = df.assign(vac_counts_per_group=vacs_per_ID_per_vac_Group)"
   ]
  },
  {
   "cell_type": "markdown",
   "metadata": {},
   "source": [
    "### Save df"
   ]
  },
  {
   "cell_type": "code",
   "execution_count": 85,
   "metadata": {
    "collapsed": false
   },
   "outputs": [],
   "source": [
    "df.to_csv(\"Analyzed_Over_vax_dataset_1+_peds_1.23.17.csv\")"
   ]
  },
  {
   "cell_type": "markdown",
   "metadata": {},
   "source": [
    "## Pivot Table\n",
    "* didn't really do anything with this, actually"
   ]
  },
  {
   "cell_type": "code",
   "execution_count": 21,
   "metadata": {
    "collapsed": false
   },
   "outputs": [],
   "source": [
    "df_vaccine_counts_pivot = df_vaccine_counts.pivot_table(\n",
    "    df_vaccine_counts, index='ID', columns=\"Vaccine_Group\", aggfunc=np.mean)\n",
    "df_vaccine_counts_pivot.fillna(value=0, inplace=True)\n",
    "df_vaccine_counts_pivot.columns = df_vaccine_counts_pivot.columns.get_level_values(1)"
   ]
  },
  {
   "cell_type": "markdown",
   "metadata": {},
   "source": [
    "### Checkpoint here - just reload data"
   ]
  },
  {
   "cell_type": "code",
   "execution_count": 80,
   "metadata": {
    "collapsed": false
   },
   "outputs": [],
   "source": [
    "# Start here\n",
    "parse_dates = ['vaccination_date', 'Date_Entered']\n",
    "df = pd.read_csv(\"Analyzed_Over_vax_dataset_1+_peds_1.23.17.csv\", parse_dates=parse_dates, index_col=0)"
   ]
  },
  {
   "cell_type": "markdown",
   "metadata": {},
   "source": [
    "### Analysis"
   ]
  },
  {
   "cell_type": "code",
   "execution_count": 45,
   "metadata": {
    "collapsed": false
   },
   "outputs": [
    {
     "data": {
      "text/plain": [
       "568221"
      ]
     },
     "execution_count": 45,
     "metadata": {},
     "output_type": "execute_result"
    }
   ],
   "source": [
    "# total overutilization subpop:\n",
    "remaining_IDs"
   ]
  },
  {
   "cell_type": "code",
   "execution_count": 46,
   "metadata": {
    "collapsed": false
   },
   "outputs": [
    {
     "data": {
      "text/plain": [
       "15359193"
      ]
     },
     "execution_count": 46,
     "metadata": {},
     "output_type": "execute_result"
    }
   ],
   "source": [
    "# total vacs (of 14 analyzed) administered to analyzed overutilized population\n",
    "remaining_vacs\n",
    "\n",
    "# do we want to do all vacs in this dataset or just the 14?"
   ]
  },
  {
   "cell_type": "code",
   "execution_count": 47,
   "metadata": {
    "collapsed": false
   },
   "outputs": [
    {
     "data": {
      "text/plain": [
       "18.745205479452054"
      ]
     },
     "execution_count": 47,
     "metadata": {},
     "output_type": "execute_result"
    }
   ],
   "source": [
    "# number of years included within dataset\n",
    "(df.vaccination_date.max() - df.vaccination_date.min()).days / 365"
   ]
  },
  {
   "cell_type": "code",
   "execution_count": 51,
   "metadata": {
    "collapsed": false
   },
   "outputs": [
    {
     "data": {
      "text/plain": [
       "870973"
      ]
     },
     "execution_count": 51,
     "metadata": {},
     "output_type": "execute_result"
    }
   ],
   "source": [
    "# Excessive vaccine doses administered\n",
    "excessive_vacs_df.num_excessive.sum()"
   ]
  },
  {
   "cell_type": "code",
   "execution_count": 52,
   "metadata": {
    "collapsed": false,
    "scrolled": false
   },
   "outputs": [
    {
     "data": {
      "text/html": [
       "<div>\n",
       "<table border=\"1\" class=\"dataframe\">\n",
       "  <thead>\n",
       "    <tr style=\"text-align: right;\">\n",
       "      <th></th>\n",
       "      <th>num_excessive</th>\n",
       "    </tr>\n",
       "    <tr>\n",
       "      <th>Vaccine_Group</th>\n",
       "      <th></th>\n",
       "    </tr>\n",
       "  </thead>\n",
       "  <tbody>\n",
       "    <tr>\n",
       "      <th>DTaP</th>\n",
       "      <td>55577</td>\n",
       "    </tr>\n",
       "    <tr>\n",
       "      <th>H1N1</th>\n",
       "      <td>3723</td>\n",
       "    </tr>\n",
       "    <tr>\n",
       "      <th>HPV</th>\n",
       "      <td>3744</td>\n",
       "    </tr>\n",
       "    <tr>\n",
       "      <th>HepA</th>\n",
       "      <td>38762</td>\n",
       "    </tr>\n",
       "    <tr>\n",
       "      <th>HepB</th>\n",
       "      <td>384886</td>\n",
       "    </tr>\n",
       "    <tr>\n",
       "      <th>Hib</th>\n",
       "      <td>28642</td>\n",
       "    </tr>\n",
       "    <tr>\n",
       "      <th>MCV4</th>\n",
       "      <td>2145</td>\n",
       "    </tr>\n",
       "    <tr>\n",
       "      <th>MMR</th>\n",
       "      <td>40408</td>\n",
       "    </tr>\n",
       "    <tr>\n",
       "      <th>PCV</th>\n",
       "      <td>115333</td>\n",
       "    </tr>\n",
       "    <tr>\n",
       "      <th>PPSV</th>\n",
       "      <td>6894</td>\n",
       "    </tr>\n",
       "    <tr>\n",
       "      <th>Polio</th>\n",
       "      <td>154915</td>\n",
       "    </tr>\n",
       "    <tr>\n",
       "      <th>Rotavirus</th>\n",
       "      <td>3933</td>\n",
       "    </tr>\n",
       "    <tr>\n",
       "      <th>Varicella</th>\n",
       "      <td>31926</td>\n",
       "    </tr>\n",
       "    <tr>\n",
       "      <th>Zoster</th>\n",
       "      <td>85</td>\n",
       "    </tr>\n",
       "  </tbody>\n",
       "</table>\n",
       "</div>"
      ],
      "text/plain": [
       "               num_excessive\n",
       "Vaccine_Group               \n",
       "DTaP                   55577\n",
       "H1N1                    3723\n",
       "HPV                     3744\n",
       "HepA                   38762\n",
       "HepB                  384886\n",
       "Hib                    28642\n",
       "MCV4                    2145\n",
       "MMR                    40408\n",
       "PCV                   115333\n",
       "PPSV                    6894\n",
       "Polio                 154915\n",
       "Rotavirus               3933\n",
       "Varicella              31926\n",
       "Zoster                    85"
      ]
     },
     "execution_count": 52,
     "metadata": {},
     "output_type": "execute_result"
    }
   ],
   "source": [
    "# num of excessive vaccines by vaccine group\n",
    "excessive_vacs_grouped = excessive_vacs_df.groupby([\"Vaccine_Group\"]).agg({\"num_excessive\" : np.sum})\n",
    "excessive_vacs_grouped"
   ]
  },
  {
   "cell_type": "code",
   "execution_count": 53,
   "metadata": {
    "collapsed": false,
    "scrolled": true
   },
   "outputs": [
    {
     "data": {
      "text/html": [
       "<div>\n",
       "<table border=\"1\" class=\"dataframe\">\n",
       "  <thead>\n",
       "    <tr style=\"text-align: right;\">\n",
       "      <th></th>\n",
       "      <th>num_excessive</th>\n",
       "      <th>Price</th>\n",
       "      <th>total_cost_per_vac_group</th>\n",
       "    </tr>\n",
       "    <tr>\n",
       "      <th>Vaccine_Group</th>\n",
       "      <th></th>\n",
       "      <th></th>\n",
       "      <th></th>\n",
       "    </tr>\n",
       "  </thead>\n",
       "  <tbody>\n",
       "    <tr>\n",
       "      <th>DTaP</th>\n",
       "      <td>55577</td>\n",
       "      <td>23.603333</td>\n",
       "      <td>1.311802e+06</td>\n",
       "    </tr>\n",
       "    <tr>\n",
       "      <th>H1N1</th>\n",
       "      <td>3723</td>\n",
       "      <td>19.900000</td>\n",
       "      <td>7.408770e+04</td>\n",
       "    </tr>\n",
       "    <tr>\n",
       "      <th>HPV</th>\n",
       "      <td>3744</td>\n",
       "      <td>155.540000</td>\n",
       "      <td>5.823418e+05</td>\n",
       "    </tr>\n",
       "    <tr>\n",
       "      <th>HepA</th>\n",
       "      <td>38762</td>\n",
       "      <td>63.875000</td>\n",
       "      <td>2.475923e+06</td>\n",
       "    </tr>\n",
       "    <tr>\n",
       "      <th>HepB</th>\n",
       "      <td>384886</td>\n",
       "      <td>56.327500</td>\n",
       "      <td>2.167967e+07</td>\n",
       "    </tr>\n",
       "    <tr>\n",
       "      <th>Hib</th>\n",
       "      <td>28642</td>\n",
       "      <td>26.235000</td>\n",
       "      <td>7.514229e+05</td>\n",
       "    </tr>\n",
       "    <tr>\n",
       "      <th>MCV4</th>\n",
       "      <td>2145</td>\n",
       "      <td>133.519600</td>\n",
       "      <td>2.863995e+05</td>\n",
       "    </tr>\n",
       "    <tr>\n",
       "      <th>MMR</th>\n",
       "      <td>40408</td>\n",
       "      <td>62.790000</td>\n",
       "      <td>2.537218e+06</td>\n",
       "    </tr>\n",
       "    <tr>\n",
       "      <th>PCV</th>\n",
       "      <td>115333</td>\n",
       "      <td>159.570000</td>\n",
       "      <td>1.840369e+07</td>\n",
       "    </tr>\n",
       "    <tr>\n",
       "      <th>PPSV</th>\n",
       "      <td>6894</td>\n",
       "      <td>78.900000</td>\n",
       "      <td>5.439366e+05</td>\n",
       "    </tr>\n",
       "    <tr>\n",
       "      <th>Polio</th>\n",
       "      <td>154915</td>\n",
       "      <td>30.170000</td>\n",
       "      <td>4.673786e+06</td>\n",
       "    </tr>\n",
       "    <tr>\n",
       "      <th>Rotavirus</th>\n",
       "      <td>3933</td>\n",
       "      <td>81.280000</td>\n",
       "      <td>3.196742e+05</td>\n",
       "    </tr>\n",
       "    <tr>\n",
       "      <th>Varicella</th>\n",
       "      <td>31926</td>\n",
       "      <td>107.670000</td>\n",
       "      <td>3.437472e+06</td>\n",
       "    </tr>\n",
       "    <tr>\n",
       "      <th>Zoster</th>\n",
       "      <td>85</td>\n",
       "      <td>187.890000</td>\n",
       "      <td>1.597065e+04</td>\n",
       "    </tr>\n",
       "  </tbody>\n",
       "</table>\n",
       "</div>"
      ],
      "text/plain": [
       "               num_excessive       Price  total_cost_per_vac_group\n",
       "Vaccine_Group                                                     \n",
       "DTaP                   55577   23.603333              1.311802e+06\n",
       "H1N1                    3723   19.900000              7.408770e+04\n",
       "HPV                     3744  155.540000              5.823418e+05\n",
       "HepA                   38762   63.875000              2.475923e+06\n",
       "HepB                  384886   56.327500              2.167967e+07\n",
       "Hib                    28642   26.235000              7.514229e+05\n",
       "MCV4                    2145  133.519600              2.863995e+05\n",
       "MMR                    40408   62.790000              2.537218e+06\n",
       "PCV                   115333  159.570000              1.840369e+07\n",
       "PPSV                    6894   78.900000              5.439366e+05\n",
       "Polio                 154915   30.170000              4.673786e+06\n",
       "Rotavirus               3933   81.280000              3.196742e+05\n",
       "Varicella              31926  107.670000              3.437472e+06\n",
       "Zoster                    85  187.890000              1.597065e+04"
      ]
     },
     "execution_count": 53,
     "metadata": {},
     "output_type": "execute_result"
    }
   ],
   "source": [
    "# cost estimates using vaccine price list\n",
    "vaccine_costs = pd.read_excel(\"vaccine_costs.xlsx\", converters={\"Vaccine_Group\":str, 'Price':float}, index_col=\"Vaccine_Group\")\n",
    "excessive_vac_costs = pd.merge(excessive_vacs_grouped, vaccine_costs, how=\"left\", left_index=True, right_index=True)\n",
    "excessive_vac_costs['total_cost_per_vac_group'] = excessive_vac_costs.num_excessive * excessive_vac_costs.Price\n",
    "excessive_vac_costs"
   ]
  },
  {
   "cell_type": "code",
   "execution_count": 54,
   "metadata": {
    "collapsed": false
   },
   "outputs": [
    {
     "data": {
      "text/plain": [
       "57093387.83"
      ]
     },
     "execution_count": 54,
     "metadata": {},
     "output_type": "execute_result"
    }
   ],
   "source": [
    "# total estimated cost\n",
    "float(\"{:.2f}\".format(excessive_vac_costs.total_cost_per_vac_group.sum()))"
   ]
  },
  {
   "cell_type": "code",
   "execution_count": 55,
   "metadata": {
    "collapsed": false,
    "scrolled": false
   },
   "outputs": [
    {
     "data": {
      "text/html": [
       "<div>\n",
       "<table border=\"1\" class=\"dataframe\">\n",
       "  <thead>\n",
       "    <tr style=\"text-align: right;\">\n",
       "      <th></th>\n",
       "      <th>Vaccine_Counts</th>\n",
       "    </tr>\n",
       "    <tr>\n",
       "      <th>num_excessive</th>\n",
       "      <th></th>\n",
       "    </tr>\n",
       "  </thead>\n",
       "  <tbody>\n",
       "    <tr>\n",
       "      <th>1</th>\n",
       "      <td>735561</td>\n",
       "    </tr>\n",
       "    <tr>\n",
       "      <th>2</th>\n",
       "      <td>48027</td>\n",
       "    </tr>\n",
       "    <tr>\n",
       "      <th>3</th>\n",
       "      <td>8793</td>\n",
       "    </tr>\n",
       "    <tr>\n",
       "      <th>4</th>\n",
       "      <td>2072</td>\n",
       "    </tr>\n",
       "    <tr>\n",
       "      <th>5</th>\n",
       "      <td>555</td>\n",
       "    </tr>\n",
       "    <tr>\n",
       "      <th>6</th>\n",
       "      <td>164</td>\n",
       "    </tr>\n",
       "    <tr>\n",
       "      <th>7</th>\n",
       "      <td>62</td>\n",
       "    </tr>\n",
       "    <tr>\n",
       "      <th>8</th>\n",
       "      <td>28</td>\n",
       "    </tr>\n",
       "    <tr>\n",
       "      <th>9</th>\n",
       "      <td>6</td>\n",
       "    </tr>\n",
       "    <tr>\n",
       "      <th>10</th>\n",
       "      <td>8</td>\n",
       "    </tr>\n",
       "    <tr>\n",
       "      <th>11</th>\n",
       "      <td>7</td>\n",
       "    </tr>\n",
       "    <tr>\n",
       "      <th>12</th>\n",
       "      <td>2</td>\n",
       "    </tr>\n",
       "    <tr>\n",
       "      <th>13</th>\n",
       "      <td>3</td>\n",
       "    </tr>\n",
       "  </tbody>\n",
       "</table>\n",
       "</div>"
      ],
      "text/plain": [
       "               Vaccine_Counts\n",
       "num_excessive                \n",
       "1                      735561\n",
       "2                       48027\n",
       "3                        8793\n",
       "4                        2072\n",
       "5                         555\n",
       "6                         164\n",
       "7                          62\n",
       "8                          28\n",
       "9                           6\n",
       "10                          8\n",
       "11                          7\n",
       "12                          2\n",
       "13                          3"
      ]
     },
     "execution_count": 55,
     "metadata": {},
     "output_type": "execute_result"
    }
   ],
   "source": [
    "# Pattern of Vaccine Overutilization\n",
    "excessive_vacs_df.groupby(\"num_excessive\").agg({\"Vaccine_Counts\" : \"count\"})"
   ]
  },
  {
   "cell_type": "code",
   "execution_count": 57,
   "metadata": {
    "collapsed": false
   },
   "outputs": [],
   "source": [
    "def multiple_in_excess_finder(mult):\n",
    "    return excessive_vacs_df[excessive_vacs_df.Vaccine_Counts >= mult * excessive_vacs_df.Vaccine_Group.map(max_map)]"
   ]
  },
  {
   "cell_type": "code",
   "execution_count": 58,
   "metadata": {
    "collapsed": false,
    "scrolled": true
   },
   "outputs": [
    {
     "data": {
      "text/plain": [
       "0     554114\n",
       "1      12770\n",
       "2        850\n",
       "3        199\n",
       "4        141\n",
       "5         72\n",
       "6         41\n",
       "7         20\n",
       "8         11\n",
       "9          2\n",
       "10         1\n",
       "Name: Vaccine_Group, dtype: int64"
      ]
     },
     "execution_count": 58,
     "metadata": {},
     "output_type": "execute_result"
    }
   ],
   "source": [
    "# Individuals Receiving >= 2x ACIP-Recommended Doses of Multiple Vaccine Series\n",
    "IDs_with_2x_excess = multiple_in_excess_finder(2)\n",
    "IDs_with_2x_excess_grouped = IDs_with_2x_excess.groupby('ID').agg({'Vaccine_Group' : 'count'})\n",
    "IDs_2x = IDs_with_2x_excess_grouped.index.values\n",
    "IDs_wo_2x_count = df[~df.ID.isin(IDs_2x)]\n",
    "zero_counts = IDs_wo_2x_count.ID.nunique()\n",
    "value_counts_of_2x_in_excess = IDs_with_2x_excess_grouped.Vaccine_Group.value_counts()\n",
    "value_counts_of_2x_in_excess.set_value(0, zero_counts)\n",
    "value_counts_of_2x_in_excess = value_counts_of_2x_in_excess.sort_index()\n",
    "value_counts_of_2x_in_excess"
   ]
  },
  {
   "cell_type": "code",
   "execution_count": 663,
   "metadata": {
    "collapsed": false,
    "scrolled": true
   },
   "outputs": [
    {
     "data": {
      "image/png": "[encoded data removed]",
      "text/plain": [
       "<matplotlib.figure.Figure at 0x2677c8ca2b0>"
      ]
     },
     "metadata": {},
     "output_type": "display_data"
    }
   ],
   "source": [
    "plt.bar(left=value_counts_of_2x_in_excess.index, height=value_counts_of_2x_in_excess.values)\n",
    "plt.title(\"Individuals Receiving >= 2x ACIP-Recommended Doses\\nof Multiple Vaccine Series\")\n",
    "plt.show()"
   ]
  },
  {
   "cell_type": "code",
   "execution_count": 59,
   "metadata": {
    "collapsed": false,
    "scrolled": false
   },
   "outputs": [
    {
     "data": {
      "image/png": "[encoded data removed]",
      "text/plain": [
       "<matplotlib.figure.Figure at 0x195530f2080>"
      ]
     },
     "metadata": {},
     "output_type": "display_data"
    },
    {
     "data": {
      "text/plain": [
       "1     424287\n",
       "2      94450\n",
       "3      28426\n",
       "4      12351\n",
       "5       5929\n",
       "6       1984\n",
       "7        555\n",
       "8        171\n",
       "9         63\n",
       "10         5\n",
       "Name: Vaccine_Group, dtype: int64"
      ]
     },
     "execution_count": 59,
     "metadata": {},
     "output_type": "execute_result"
    }
   ],
   "source": [
    "# Frequenty of Distinct Overutilized Vaccines per Individual\n",
    "num_excessive_vac_series = excessive_vacs_df.groupby(\n",
    "    ['ID']).agg({\"Vaccine_Group\" : \"count\"}\n",
    "               ).Vaccine_Group.value_counts().sort_index()\n",
    "\n",
    "plt.bar(left=num_excessive_vac_series.index, \n",
    "        height=num_excessive_vac_series.values)\n",
    "\n",
    "plt.title(\"Freq of Distinct Overutilized Vacs per Individual\")\n",
    "plt.show()\n",
    "num_excessive_vac_series"
   ]
  },
  {
   "cell_type": "code",
   "execution_count": 662,
   "metadata": {
    "collapsed": false,
    "scrolled": false
   },
   "outputs": [
    {
     "data": {
      "image/png": "[encoded data removed]",
      "text/plain": [
       "<matplotlib.figure.Figure at 0x2677dd1d668>"
      ]
     },
     "metadata": {},
     "output_type": "display_data"
    }
   ],
   "source": [
    "# multiples of dosing for one vaccine series\n",
    "mults = [IDs_wo_2x_count.ID.nunique()]\n",
    "for x in range(2, 8):\n",
    "    ID_count = multiple_in_excess_finder(x).ID.nunique()\n",
    "    mults.append(ID_count)\n",
    "\n",
    "# this it so you don't double count the values from later multiples in previous multiples\n",
    "for ind, mult in enumerate(mults):\n",
    "    mults[ind] = mult - sum(mults[ind+1:])\n",
    "\n",
    "# you will need to recreate labels if this goes awry\n",
    "labels = [\"<2\", \"2x\", \"3x\", \"4x\", \"5x\", \"6x\", \">=7x\"]\n",
    "len(labels) == len(mults)\n",
    "\n",
    "plt.bar(height=mults, left=range(0,7))\n",
    "plt.xticks(range(0,7), labels, rotation=0)\n",
    "plt.title(\"Largest Mult of Doses in Excess of Recommendations per Individual\")\n",
    "plt.show()"
   ]
  },
  {
   "cell_type": "code",
   "execution_count": 60,
   "metadata": {
    "collapsed": false
   },
   "outputs": [],
   "source": [
    "clinics_with_excess_vacs = df[df.Excessive == True].groupby(\"Entered_By\").agg(\n",
    "    {\"Vaccine_Count\" : np.sum}).sort_values(\"Vaccine_Count\", ascending=False)\n",
    "excess_vac_total = clinics_with_excess_vacs.Vaccine_Count.sum()"
   ]
  },
  {
   "cell_type": "code",
   "execution_count": 98,
   "metadata": {
    "collapsed": false
   },
   "outputs": [
    {
     "data": {
      "text/plain": [
       "25.416631744037986"
      ]
     },
     "execution_count": 98,
     "metadata": {},
     "output_type": "execute_result"
    }
   ],
   "source": [
    "# percentage of inapp vacs top 10 clinics administered\n",
    "clinics_with_excess_vacs[:10].Vaccine_Count.sum() / clinics_with_excess_vacs.Vaccine_Count.sum() * 100"
   ]
  },
  {
   "cell_type": "code",
   "execution_count": 101,
   "metadata": {
    "collapsed": false,
    "scrolled": true
   },
   "outputs": [
    {
     "data": {
      "image/png": "[encoded data removed]",
      "text/plain": [
       "<matplotlib.figure.Figure at 0x1955291b6d8>"
      ]
     },
     "metadata": {},
     "output_type": "display_data"
    },
    {
     "data": {
      "text/plain": [
       "1     499386\n",
       "2      59931\n",
       "3       7744\n",
       "4       1000\n",
       "5        132\n",
       "6         22\n",
       "7          3\n",
       "8          2\n",
       "14         1\n",
       "Name: Entered_By, dtype: int64"
      ]
     },
     "execution_count": 101,
     "metadata": {},
     "output_type": "execute_result"
    }
   ],
   "source": [
    "num_unique_clinics_df = df[df.Excessive == True].groupby(['ID']).agg({ \"Entered_By\" : pd.Series.nunique})\n",
    "num_unique_clinics_value_counts = num_unique_clinics_df.Entered_By.value_counts().sort_index()\n",
    "plt.bar(left=num_unique_clinics_value_counts.index, height=num_unique_clinics_value_counts.values)\n",
    "plt.title(\"# Distinct Clinics at which Individuals in Overvaccine Subpop Received Vaccines\")\n",
    "plt.show()\n",
    "num_unique_clinics_value_counts"
   ]
  },
  {
   "cell_type": "code",
   "execution_count": 75,
   "metadata": {
    "collapsed": false
   },
   "outputs": [],
   "source": [
    "excess_per_year = df_excessive_labels[['Vaccine_Group', 'Vaccine_Count', 'vac_year']]"
   ]
  },
  {
   "cell_type": "code",
   "execution_count": 87,
   "metadata": {
    "collapsed": false,
    "scrolled": true
   },
   "outputs": [
    {
     "data": {
      "text/html": [
       "<div>\n",
       "<table border=\"1\" class=\"dataframe\">\n",
       "  <thead>\n",
       "    <tr>\n",
       "      <th></th>\n",
       "      <th colspan=\"14\" halign=\"left\">Vaccine_Count</th>\n",
       "    </tr>\n",
       "    <tr>\n",
       "      <th>Vaccine_Group</th>\n",
       "      <th>DTaP</th>\n",
       "      <th>H1N1</th>\n",
       "      <th>HPV</th>\n",
       "      <th>HepA</th>\n",
       "      <th>HepB</th>\n",
       "      <th>Hib</th>\n",
       "      <th>MCV4</th>\n",
       "      <th>MMR</th>\n",
       "      <th>PCV</th>\n",
       "      <th>PPSV</th>\n",
       "      <th>Polio</th>\n",
       "      <th>Rotavirus</th>\n",
       "      <th>Varicella</th>\n",
       "      <th>Zoster</th>\n",
       "    </tr>\n",
       "    <tr>\n",
       "      <th>vac_year</th>\n",
       "      <th></th>\n",
       "      <th></th>\n",
       "      <th></th>\n",
       "      <th></th>\n",
       "      <th></th>\n",
       "      <th></th>\n",
       "      <th></th>\n",
       "      <th></th>\n",
       "      <th></th>\n",
       "      <th></th>\n",
       "      <th></th>\n",
       "      <th></th>\n",
       "      <th></th>\n",
       "      <th></th>\n",
       "    </tr>\n",
       "  </thead>\n",
       "  <tbody>\n",
       "    <tr>\n",
       "      <th>1998</th>\n",
       "      <td>570.0</td>\n",
       "      <td>0.0</td>\n",
       "      <td>2.0</td>\n",
       "      <td>37.0</td>\n",
       "      <td>1923.0</td>\n",
       "      <td>397.0</td>\n",
       "      <td>2.0</td>\n",
       "      <td>80.0</td>\n",
       "      <td>4.0</td>\n",
       "      <td>2.0</td>\n",
       "      <td>1179.0</td>\n",
       "      <td>12.0</td>\n",
       "      <td>19.0</td>\n",
       "      <td>0.0</td>\n",
       "    </tr>\n",
       "    <tr>\n",
       "      <th>1999</th>\n",
       "      <td>2098.0</td>\n",
       "      <td>1.0</td>\n",
       "      <td>10.0</td>\n",
       "      <td>116.0</td>\n",
       "      <td>5095.0</td>\n",
       "      <td>1432.0</td>\n",
       "      <td>20.0</td>\n",
       "      <td>750.0</td>\n",
       "      <td>6.0</td>\n",
       "      <td>9.0</td>\n",
       "      <td>3927.0</td>\n",
       "      <td>38.0</td>\n",
       "      <td>456.0</td>\n",
       "      <td>3.0</td>\n",
       "    </tr>\n",
       "    <tr>\n",
       "      <th>2000</th>\n",
       "      <td>2915.0</td>\n",
       "      <td>3.0</td>\n",
       "      <td>11.0</td>\n",
       "      <td>154.0</td>\n",
       "      <td>6332.0</td>\n",
       "      <td>1637.0</td>\n",
       "      <td>23.0</td>\n",
       "      <td>1615.0</td>\n",
       "      <td>476.0</td>\n",
       "      <td>367.0</td>\n",
       "      <td>4809.0</td>\n",
       "      <td>2.0</td>\n",
       "      <td>991.0</td>\n",
       "      <td>6.0</td>\n",
       "    </tr>\n",
       "    <tr>\n",
       "      <th>2001</th>\n",
       "      <td>3435.0</td>\n",
       "      <td>5.0</td>\n",
       "      <td>16.0</td>\n",
       "      <td>221.0</td>\n",
       "      <td>7477.0</td>\n",
       "      <td>1526.0</td>\n",
       "      <td>40.0</td>\n",
       "      <td>1826.0</td>\n",
       "      <td>1278.0</td>\n",
       "      <td>943.0</td>\n",
       "      <td>5057.0</td>\n",
       "      <td>6.0</td>\n",
       "      <td>1219.0</td>\n",
       "      <td>4.0</td>\n",
       "    </tr>\n",
       "    <tr>\n",
       "      <th>2002</th>\n",
       "      <td>3641.0</td>\n",
       "      <td>20.0</td>\n",
       "      <td>23.0</td>\n",
       "      <td>267.0</td>\n",
       "      <td>8584.0</td>\n",
       "      <td>1474.0</td>\n",
       "      <td>36.0</td>\n",
       "      <td>2035.0</td>\n",
       "      <td>1754.0</td>\n",
       "      <td>692.0</td>\n",
       "      <td>5272.0</td>\n",
       "      <td>3.0</td>\n",
       "      <td>1304.0</td>\n",
       "      <td>2.0</td>\n",
       "    </tr>\n",
       "    <tr>\n",
       "      <th>2003</th>\n",
       "      <td>4286.0</td>\n",
       "      <td>47.0</td>\n",
       "      <td>10.0</td>\n",
       "      <td>294.0</td>\n",
       "      <td>14800.0</td>\n",
       "      <td>1836.0</td>\n",
       "      <td>42.0</td>\n",
       "      <td>2593.0</td>\n",
       "      <td>2341.0</td>\n",
       "      <td>759.0</td>\n",
       "      <td>6312.0</td>\n",
       "      <td>4.0</td>\n",
       "      <td>1759.0</td>\n",
       "      <td>7.0</td>\n",
       "    </tr>\n",
       "    <tr>\n",
       "      <th>2004</th>\n",
       "      <td>4700.0</td>\n",
       "      <td>44.0</td>\n",
       "      <td>11.0</td>\n",
       "      <td>452.0</td>\n",
       "      <td>20796.0</td>\n",
       "      <td>1780.0</td>\n",
       "      <td>48.0</td>\n",
       "      <td>3209.0</td>\n",
       "      <td>2707.0</td>\n",
       "      <td>622.0</td>\n",
       "      <td>7055.0</td>\n",
       "      <td>2.0</td>\n",
       "      <td>1790.0</td>\n",
       "      <td>4.0</td>\n",
       "    </tr>\n",
       "    <tr>\n",
       "      <th>2005</th>\n",
       "      <td>4873.0</td>\n",
       "      <td>74.0</td>\n",
       "      <td>5.0</td>\n",
       "      <td>423.0</td>\n",
       "      <td>21644.0</td>\n",
       "      <td>1647.0</td>\n",
       "      <td>67.0</td>\n",
       "      <td>3421.0</td>\n",
       "      <td>4410.0</td>\n",
       "      <td>633.0</td>\n",
       "      <td>7290.0</td>\n",
       "      <td>6.0</td>\n",
       "      <td>1382.0</td>\n",
       "      <td>2.0</td>\n",
       "    </tr>\n",
       "    <tr>\n",
       "      <th>2006</th>\n",
       "      <td>4679.0</td>\n",
       "      <td>92.0</td>\n",
       "      <td>4.0</td>\n",
       "      <td>1800.0</td>\n",
       "      <td>24440.0</td>\n",
       "      <td>1377.0</td>\n",
       "      <td>64.0</td>\n",
       "      <td>3287.0</td>\n",
       "      <td>9084.0</td>\n",
       "      <td>533.0</td>\n",
       "      <td>7079.0</td>\n",
       "      <td>77.0</td>\n",
       "      <td>1859.0</td>\n",
       "      <td>6.0</td>\n",
       "    </tr>\n",
       "    <tr>\n",
       "      <th>2007</th>\n",
       "      <td>4359.0</td>\n",
       "      <td>159.0</td>\n",
       "      <td>12.0</td>\n",
       "      <td>4222.0</td>\n",
       "      <td>30731.0</td>\n",
       "      <td>1239.0</td>\n",
       "      <td>74.0</td>\n",
       "      <td>2889.0</td>\n",
       "      <td>17817.0</td>\n",
       "      <td>424.0</td>\n",
       "      <td>6726.0</td>\n",
       "      <td>461.0</td>\n",
       "      <td>3316.0</td>\n",
       "      <td>9.0</td>\n",
       "    </tr>\n",
       "    <tr>\n",
       "      <th>2008</th>\n",
       "      <td>3967.0</td>\n",
       "      <td>197.0</td>\n",
       "      <td>26.0</td>\n",
       "      <td>4728.0</td>\n",
       "      <td>35057.0</td>\n",
       "      <td>1866.0</td>\n",
       "      <td>97.0</td>\n",
       "      <td>2676.0</td>\n",
       "      <td>24714.0</td>\n",
       "      <td>433.0</td>\n",
       "      <td>11231.0</td>\n",
       "      <td>657.0</td>\n",
       "      <td>3092.0</td>\n",
       "      <td>10.0</td>\n",
       "    </tr>\n",
       "    <tr>\n",
       "      <th>2009</th>\n",
       "      <td>3616.0</td>\n",
       "      <td>1708.0</td>\n",
       "      <td>63.0</td>\n",
       "      <td>4347.0</td>\n",
       "      <td>22892.0</td>\n",
       "      <td>2500.0</td>\n",
       "      <td>124.0</td>\n",
       "      <td>2529.0</td>\n",
       "      <td>18871.0</td>\n",
       "      <td>400.0</td>\n",
       "      <td>17641.0</td>\n",
       "      <td>542.0</td>\n",
       "      <td>2853.0</td>\n",
       "      <td>9.0</td>\n",
       "    </tr>\n",
       "    <tr>\n",
       "      <th>2010</th>\n",
       "      <td>3423.0</td>\n",
       "      <td>900.0</td>\n",
       "      <td>181.0</td>\n",
       "      <td>4099.0</td>\n",
       "      <td>20768.0</td>\n",
       "      <td>2527.0</td>\n",
       "      <td>190.0</td>\n",
       "      <td>2743.0</td>\n",
       "      <td>16392.0</td>\n",
       "      <td>287.0</td>\n",
       "      <td>19943.0</td>\n",
       "      <td>494.0</td>\n",
       "      <td>2559.0</td>\n",
       "      <td>4.0</td>\n",
       "    </tr>\n",
       "    <tr>\n",
       "      <th>2011</th>\n",
       "      <td>3164.0</td>\n",
       "      <td>184.0</td>\n",
       "      <td>336.0</td>\n",
       "      <td>4057.0</td>\n",
       "      <td>21426.0</td>\n",
       "      <td>2052.0</td>\n",
       "      <td>220.0</td>\n",
       "      <td>3019.0</td>\n",
       "      <td>7929.0</td>\n",
       "      <td>224.0</td>\n",
       "      <td>17595.0</td>\n",
       "      <td>382.0</td>\n",
       "      <td>2502.0</td>\n",
       "      <td>7.0</td>\n",
       "    </tr>\n",
       "    <tr>\n",
       "      <th>2012</th>\n",
       "      <td>2272.0</td>\n",
       "      <td>135.0</td>\n",
       "      <td>606.0</td>\n",
       "      <td>3754.0</td>\n",
       "      <td>25907.0</td>\n",
       "      <td>1768.0</td>\n",
       "      <td>189.0</td>\n",
       "      <td>2167.0</td>\n",
       "      <td>3065.0</td>\n",
       "      <td>196.0</td>\n",
       "      <td>10059.0</td>\n",
       "      <td>364.0</td>\n",
       "      <td>2229.0</td>\n",
       "      <td>7.0</td>\n",
       "    </tr>\n",
       "    <tr>\n",
       "      <th>2013</th>\n",
       "      <td>1408.0</td>\n",
       "      <td>105.0</td>\n",
       "      <td>671.0</td>\n",
       "      <td>3300.0</td>\n",
       "      <td>32561.0</td>\n",
       "      <td>1447.0</td>\n",
       "      <td>154.0</td>\n",
       "      <td>1906.0</td>\n",
       "      <td>1904.0</td>\n",
       "      <td>145.0</td>\n",
       "      <td>7129.0</td>\n",
       "      <td>307.0</td>\n",
       "      <td>1660.0</td>\n",
       "      <td>1.0</td>\n",
       "    </tr>\n",
       "    <tr>\n",
       "      <th>2014</th>\n",
       "      <td>943.0</td>\n",
       "      <td>32.0</td>\n",
       "      <td>730.0</td>\n",
       "      <td>2962.0</td>\n",
       "      <td>29807.0</td>\n",
       "      <td>1156.0</td>\n",
       "      <td>183.0</td>\n",
       "      <td>1510.0</td>\n",
       "      <td>1320.0</td>\n",
       "      <td>102.0</td>\n",
       "      <td>6872.0</td>\n",
       "      <td>274.0</td>\n",
       "      <td>1342.0</td>\n",
       "      <td>2.0</td>\n",
       "    </tr>\n",
       "    <tr>\n",
       "      <th>2015</th>\n",
       "      <td>701.0</td>\n",
       "      <td>15.0</td>\n",
       "      <td>627.0</td>\n",
       "      <td>2178.0</td>\n",
       "      <td>31676.0</td>\n",
       "      <td>725.0</td>\n",
       "      <td>208.0</td>\n",
       "      <td>1275.0</td>\n",
       "      <td>905.0</td>\n",
       "      <td>66.0</td>\n",
       "      <td>5661.0</td>\n",
       "      <td>179.0</td>\n",
       "      <td>961.0</td>\n",
       "      <td>1.0</td>\n",
       "    </tr>\n",
       "    <tr>\n",
       "      <th>2016</th>\n",
       "      <td>505.0</td>\n",
       "      <td>2.0</td>\n",
       "      <td>391.0</td>\n",
       "      <td>1317.0</td>\n",
       "      <td>22524.0</td>\n",
       "      <td>248.0</td>\n",
       "      <td>351.0</td>\n",
       "      <td>849.0</td>\n",
       "      <td>343.0</td>\n",
       "      <td>55.0</td>\n",
       "      <td>3960.0</td>\n",
       "      <td>120.0</td>\n",
       "      <td>613.0</td>\n",
       "      <td>1.0</td>\n",
       "    </tr>\n",
       "    <tr>\n",
       "      <th>2017</th>\n",
       "      <td>22.0</td>\n",
       "      <td>0.0</td>\n",
       "      <td>9.0</td>\n",
       "      <td>34.0</td>\n",
       "      <td>446.0</td>\n",
       "      <td>8.0</td>\n",
       "      <td>13.0</td>\n",
       "      <td>29.0</td>\n",
       "      <td>13.0</td>\n",
       "      <td>2.0</td>\n",
       "      <td>118.0</td>\n",
       "      <td>3.0</td>\n",
       "      <td>20.0</td>\n",
       "      <td>0.0</td>\n",
       "    </tr>\n",
       "  </tbody>\n",
       "</table>\n",
       "</div>"
      ],
      "text/plain": [
       "              Vaccine_Count                                                 \\\n",
       "Vaccine_Group          DTaP    H1N1    HPV    HepA     HepB     Hib   MCV4   \n",
       "vac_year                                                                     \n",
       "1998                  570.0     0.0    2.0    37.0   1923.0   397.0    2.0   \n",
       "1999                 2098.0     1.0   10.0   116.0   5095.0  1432.0   20.0   \n",
       "2000                 2915.0     3.0   11.0   154.0   6332.0  1637.0   23.0   \n",
       "2001                 3435.0     5.0   16.0   221.0   7477.0  1526.0   40.0   \n",
       "2002                 3641.0    20.0   23.0   267.0   8584.0  1474.0   36.0   \n",
       "2003                 4286.0    47.0   10.0   294.0  14800.0  1836.0   42.0   \n",
       "2004                 4700.0    44.0   11.0   452.0  20796.0  1780.0   48.0   \n",
       "2005                 4873.0    74.0    5.0   423.0  21644.0  1647.0   67.0   \n",
       "2006                 4679.0    92.0    4.0  1800.0  24440.0  1377.0   64.0   \n",
       "2007                 4359.0   159.0   12.0  4222.0  30731.0  1239.0   74.0   \n",
       "2008                 3967.0   197.0   26.0  4728.0  35057.0  1866.0   97.0   \n",
       "2009                 3616.0  1708.0   63.0  4347.0  22892.0  2500.0  124.0   \n",
       "2010                 3423.0   900.0  181.0  4099.0  20768.0  2527.0  190.0   \n",
       "2011                 3164.0   184.0  336.0  4057.0  21426.0  2052.0  220.0   \n",
       "2012                 2272.0   135.0  606.0  3754.0  25907.0  1768.0  189.0   \n",
       "2013                 1408.0   105.0  671.0  3300.0  32561.0  1447.0  154.0   \n",
       "2014                  943.0    32.0  730.0  2962.0  29807.0  1156.0  183.0   \n",
       "2015                  701.0    15.0  627.0  2178.0  31676.0   725.0  208.0   \n",
       "2016                  505.0     2.0  391.0  1317.0  22524.0   248.0  351.0   \n",
       "2017                   22.0     0.0    9.0    34.0    446.0     8.0   13.0   \n",
       "\n",
       "                                                                           \n",
       "Vaccine_Group     MMR      PCV   PPSV    Polio Rotavirus Varicella Zoster  \n",
       "vac_year                                                                   \n",
       "1998             80.0      4.0    2.0   1179.0      12.0      19.0    0.0  \n",
       "1999            750.0      6.0    9.0   3927.0      38.0     456.0    3.0  \n",
       "2000           1615.0    476.0  367.0   4809.0       2.0     991.0    6.0  \n",
       "2001           1826.0   1278.0  943.0   5057.0       6.0    1219.0    4.0  \n",
       "2002           2035.0   1754.0  692.0   5272.0       3.0    1304.0    2.0  \n",
       "2003           2593.0   2341.0  759.0   6312.0       4.0    1759.0    7.0  \n",
       "2004           3209.0   2707.0  622.0   7055.0       2.0    1790.0    4.0  \n",
       "2005           3421.0   4410.0  633.0   7290.0       6.0    1382.0    2.0  \n",
       "2006           3287.0   9084.0  533.0   7079.0      77.0    1859.0    6.0  \n",
       "2007           2889.0  17817.0  424.0   6726.0     461.0    3316.0    9.0  \n",
       "2008           2676.0  24714.0  433.0  11231.0     657.0    3092.0   10.0  \n",
       "2009           2529.0  18871.0  400.0  17641.0     542.0    2853.0    9.0  \n",
       "2010           2743.0  16392.0  287.0  19943.0     494.0    2559.0    4.0  \n",
       "2011           3019.0   7929.0  224.0  17595.0     382.0    2502.0    7.0  \n",
       "2012           2167.0   3065.0  196.0  10059.0     364.0    2229.0    7.0  \n",
       "2013           1906.0   1904.0  145.0   7129.0     307.0    1660.0    1.0  \n",
       "2014           1510.0   1320.0  102.0   6872.0     274.0    1342.0    2.0  \n",
       "2015           1275.0    905.0   66.0   5661.0     179.0     961.0    1.0  \n",
       "2016            849.0    343.0   55.0   3960.0     120.0     613.0    1.0  \n",
       "2017             29.0     13.0    2.0    118.0       3.0      20.0    0.0  "
      ]
     },
     "execution_count": 87,
     "metadata": {},
     "output_type": "execute_result"
    }
   ],
   "source": [
    "# num excessive of each vaccine by year\n",
    "excess_per_year_pivot = excess_per_year.pivot_table(\n",
    "    index=\"vac_year\", columns=\"Vaccine_Group\", aggfunc=np.sum)\n",
    "excess_per_year_pivot.fillna(0, inplace=True)\n",
    "excess_per_year_pivot"
   ]
  },
  {
   "cell_type": "code",
   "execution_count": 111,
   "metadata": {
    "collapsed": false,
    "scrolled": true
   },
   "outputs": [
    {
     "data": {
      "text/plain": [
       "1     407493\n",
       "2      96151\n",
       "3      32544\n",
       "4      14931\n",
       "5       7850\n",
       "6       3992\n",
       "7       1953\n",
       "8       1039\n",
       "9        665\n",
       "10       372\n",
       "11       277\n",
       "12       188\n",
       "13       122\n",
       "14       112\n",
       "15        87\n",
       "16        74\n",
       "17        60\n",
       "18        52\n",
       "19        39\n",
       "20        36\n",
       "21        43\n",
       "22        23\n",
       "23        41\n",
       "24        14\n",
       "25        12\n",
       "26        14\n",
       "27         8\n",
       "28         8\n",
       "29         5\n",
       "30         2\n",
       "32         3\n",
       "34         1\n",
       "35         2\n",
       "36         1\n",
       "38         1\n",
       "40         1\n",
       "44         1\n",
       "47         1\n",
       "52         1\n",
       "57         1\n",
       "58         1\n",
       "Name: Vaccine_Count, dtype: int64"
      ]
     },
     "execution_count": 111,
     "metadata": {},
     "output_type": "execute_result"
    }
   ],
   "source": [
    "# value counts of the num of excessive vaccines individuals received\n",
    "excess_vac_cnts = df_excessive_labels.groupby(['ID']).agg({'Vaccine_Count' : np.sum})\n",
    "excess_vac_value_counts = excess_vac_cnts['Vaccine_Count'].value_counts().sort_index()\n",
    "excess_vacs_value_counts"
   ]
  }
 ],
 "metadata": {
  "kernelspec": {
   "display_name": "Python 3",
   "language": "python",
   "name": "python3"
  },
  "language_info": {
   "codemirror_mode": {
    "name": "ipython",
    "version": 3
   },
   "file_extension": ".py",
   "mimetype": "text/x-python",
   "name": "python",
   "nbconvert_exporter": "python",
   "pygments_lexer": "ipython3",
   "version": "3.6.0"
  }
 },
 "nbformat": 4,
 "nbformat_minor": 2
}
